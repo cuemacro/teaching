{
 "cells": [
  {
   "cell_type": "markdown",
   "id": "active-pitch",
   "metadata": {},
   "source": [
    "# Using vaex to process tick data\n",
    "\n",
    "January 2021 - Saeed Amen - https://www.cuemacro.com - saeed@cuemacro.com"
   ]
  },
  {
   "cell_type": "markdown",
   "id": "rising-latter",
   "metadata": {},
   "source": [
    "## Introduction\n",
    "\n",
    "In this Jupyter notebook, we discuss how to use the vaex library to process high frequency time series data, which in our example is FX tick data. Our main aim is to show how vaex can be a good library to do such computations.\n",
    "\n",
    "### Python libraries to try\n",
    "\n",
    "There are several ways to work with time series tick data in Python. Here are a few possible ideas below. Note it isn't an exhaustive list, and there are lots of other time series style libraries including modin etc.\n",
    "\n",
    "* [Pandas](https://github.com/pandas-dev/pandas) - This is the most popular time series library and I use it a lot! However, when your datasets are very large you need to batch your calculations\n",
    "* [Dask](https://github.com/dask/dask) - This is a library for parallel computing with task scheduling. It has Dask DataFrames which look like Pandas DataFrames to the user, but they can be much bigger than memory, and underneath Dask handles all the batching and construction of a graph for computation for us\n",
    "* [NumPy](https://github.com/numpy/numpy) - It's main library for working with arrays in Python. Whilst, it isn't designed purely for time series, we can use NumPy arrays to represent time series, and computations can be quickly using pure NumPy than Pandas.\n",
    "* [TensorFlow](https://github.com/tensorflow/tensorflow) - Whilst TensorFlow is primarily a library for machine learning, the newest version has an NumPy like interface, to make it easy to use it instead of NumPy. It can also target the GPU.\n",
    "\n",
    "There are all sorts of tips and tricks we can use to speed up Python and the tools above, without having to resort to rewriting all our Python in another faster language like C. We can for example use [Numba](http://numba.pydata.org/) to speed up lots of numerical calculations (targeting either CPU or GPU) or [Cython](https://cython.org/). I tend to like using Numba and it's a great tool, although it does often require some rewriting of your code. The trick is to identify the particular bottlenecks in your code, and spend time there too. \n",
    "\n",
    "### Run across more cores or on the cloud\n",
    "\n",
    "We can also try to run our code in more cores. I've used Celery, in [tcapy](https://www.github.com/cuemacro) to distribute computation with tick data to more cores (or it can be setup to compute across multiple machines). Dask also allows you to set up clusters for computation. However, ultimately if we are doing this locally, we are likely to face limits in the amount of CPU and memory we have.\n",
    "\n",
    "With the cloud, this type of scaling becomes easier. You can use tools serverless compute, such as with [AWS Lambdas](https://aws.amazon.com/lambda/), which abstract away some of the complexity of managing multiple machines. [Coiled](https://coiled.io/) is a service which allows you to easily run Dask clusters in the cloud.\n",
    "\n",
    "Alternatively, rather than relying on Python to do a lot of our numerical computations, we can use time series databases. They can do the computations inside them, doing the heavy lifting for us, and then return results to Python. These databases could for example include kdb+/q which is specifically designed for tick data, we'll hopefully talk about them at another time!"
   ]
  },
  {
   "cell_type": "markdown",
   "id": "spare-cornell",
   "metadata": {},
   "source": [
    "## So what's vaex?\n",
    "\n",
    "Like Dask, vaex is a Python based library that allows us to do computations on datasets that are too big to fit in memory. You can use vaex to query data in a Pythonic way, similar to how you use Pandas or Dask. Hence, we don't need to learn any different database query languages (e.g. like q or k). It should be noted that the vaex API is slightly different to pandas API calls.\n",
    "\n",
    "Vaex can load up data in Arrow format. Arrow is an open source format for storing columnar data, in an efficient way. Just like with kdb+/q, Vaex won't try to load up your dataset from disk. Instead, it is smart about which sections to read/write. Like kdb+/q, vaex memory maps the dataset from disk. However, vaex is all open source unlike kdb+/q and it's also easier to query vaex, if you are used to Python. If we want to query kdb+/q we'll have to learn q. \n",
    "\n",
    "[An article from AquaQ](https://www.aquaq.co.uk/q/comparing-columnar-data-formats-arrow-vaex-and-kdb/) compares kdb+/q with vaex in more detail and also has some benchmarks. [This article](https://towardsdatascience.com/vaex-a-dataframe-with-super-strings-789b92e8d861)  also introduces vaex with a focus on how it can speed up string operations."
   ]
  },
  {
   "cell_type": "markdown",
   "id": "reported-mercy",
   "metadata": {},
   "source": [
    "## Download and prepare some tick data\n",
    "\n",
    "First thing we need to do is to get some tick data. I've used my tcapy library to download a large amount of FX tick data from Dukascopy. We outline the scripts we've used below. To use them you'll need to install tcapy fully on your machine. You'll also likely need to change some of the folders in the scripts.\n",
    "\n",
    "* [dump_data_vendor_to_parquet_csv_hdf5.py](https://github.com/cuemacro/tcapy/blob/master/tcapy_scripts/gen/dump_data_vendor_to_parquet_csv_hdf5.py) - This downloads the tick data from Dukascopy, and then dumps the data as Parquet files at a monthly frequency\n",
    "* [copy_parquet_to_arrow.py](https://github.com/cuemacro/tcapy/blob/master/tcapy_scripts/gen/copy_parquet_to_arrow.py) - This converts Parquet files into Arrow files and places them into a different folder. Vaex can work with Parquet files, but there's generally more support in terms of functionality for Arrow files. In particualr for Arrow files it has lazy loading.\n",
    "\n",
    "Let's assume we've run the above files (and note that it would likely take a few days to download the data at least). We should have files that look like this, with the currency pair (`AUDUSD`), the data source (`dukascopy`), the start date/time and end date/time of that month.\n",
    "* `parquet folder - eg. AUDUSD_dukascopy_2021-01-03_22_00_00.202000+00_002021-01-31_23_59_54.269000+00_00.parquet`\n",
    "* `arrow_folder - eg. AUDUSD_dukascopy_2021-01-03_22_00_00.202000+00_002021-01-31_23_59_54.269000+00_00.arrow`"
   ]
  },
  {
   "cell_type": "markdown",
   "id": "peaceful-louisville",
   "metadata": {},
   "source": [
    "## Analysing the tick data"
   ]
  },
  {
   "cell_type": "markdown",
   "id": "civilian-bikini",
   "metadata": {},
   "source": [
    "To start with let's do some imports of libraries and define paths that we'll use later."
   ]
  },
  {
   "cell_type": "code",
   "execution_count": 3,
   "id": "directed-lawsuit",
   "metadata": {
    "ExecuteTime": {
     "end_time": "2021-04-23T20:28:11.508712Z",
     "start_time": "2021-04-23T20:28:11.504890Z"
    }
   },
   "outputs": [],
   "source": [
    "import pandas as pd\n",
    "import dask\n",
    "import dask.dataframe as dd\n",
    "import vaex\n",
    "import concurrent\n",
    "\n",
    "arrow_folder = \"e:/Datasets/csv_dump/dukascopy_arrow/\"\n",
    "parquet_folder = \"e:/Datasets/csv_dump/dukascopy_parquet/\""
   ]
  },
  {
   "cell_type": "code",
   "execution_count": 5,
   "id": "2770070a",
   "metadata": {
    "ExecuteTime": {
     "end_time": "2021-04-23T20:28:25.953317Z",
     "start_time": "2021-04-23T20:28:25.949171Z"
    }
   },
   "outputs": [
    {
     "data": {
      "text/plain": [
       "'1.19.1'"
      ]
     },
     "execution_count": 5,
     "metadata": {},
     "output_type": "execute_result"
    }
   ],
   "source": [
    "import numpy as np\n",
    "np.__version__"
   ]
  },
  {
   "cell_type": "markdown",
   "id": "steady-worthy",
   "metadata": {},
   "source": [
    "### Using vaex to calculate the average spread by day\n",
    "\n",
    "First, we load up the data. As mentioned before, vaex doesn't actually load all of it up into memory, so the \"load\" step is actually quite fast. This would be in contrast to using something like Pandas, where the whole file we're working on needs to be loaded up into memory.\n",
    "\n",
    "The next step is to calculate the bid/ask spread and then to calculate the average spread by date. Finally, we convert the output from a vaex DataFrame into a pandas DataFrame. My benchmark machine is running Windows with a Intel Core i9-7940X CPU 3.1 GHz with 14 cores, 128 GB RAM and a 2 TB Samsung 970 Evo Plus m.2 SSD.\n",
    "\n",
    "On this machine, the computation takes just over 10 seconds. Our dataset consists of EURUSD tick data and our sample on disk is from 2005-2021."
   ]
  },
  {
   "cell_type": "code",
   "execution_count": 2,
   "id": "overhead-reference",
   "metadata": {
    "ExecuteTime": {
     "end_time": "2021-04-23T20:28:02.097322Z",
     "start_time": "2021-04-23T20:28:02.008588Z"
    }
   },
   "outputs": [
    {
     "name": "stderr",
     "output_type": "stream",
     "text": [
      "ERROR:MainThread:vaex:error opening 'e:/Datasets/csv_dump/dukascopy_arrow/EURUSD*.arrow'\n"
     ]
    },
    {
     "ename": "OSError",
     "evalue": "File pattern did not match anything e:/Datasets/csv_dump/dukascopy_arrow/EURUSD*.arrow",
     "output_type": "error",
     "traceback": [
      "\u001b[0;31m---------------------------------------------------------------------------\u001b[0m",
      "\u001b[0;31mOSError\u001b[0m                                   Traceback (most recent call last)",
      "\u001b[0;32m<timed exec>\u001b[0m in \u001b[0;36m<module>\u001b[0;34m\u001b[0m\n",
      "\u001b[0;32m~/anaconda3/envs/py38class/lib/python3.8/site-packages/vaex/__init__.py\u001b[0m in \u001b[0;36mopen\u001b[0;34m(path, convert, shuffle, fs_options, fs, *args, **kwargs)\u001b[0m\n\u001b[1;32m    202\u001b[0m         \u001b[0mdf\u001b[0m \u001b[0;34m=\u001b[0m \u001b[0;32mNone\u001b[0m\u001b[0;34m\u001b[0m\u001b[0;34m\u001b[0m\u001b[0m\n\u001b[1;32m    203\u001b[0m         \u001b[0;32mif\u001b[0m \u001b[0mlen\u001b[0m\u001b[0;34m(\u001b[0m\u001b[0mfilenames\u001b[0m\u001b[0;34m)\u001b[0m \u001b[0;34m==\u001b[0m \u001b[0;36m0\u001b[0m\u001b[0;34m:\u001b[0m\u001b[0;34m\u001b[0m\u001b[0;34m\u001b[0m\u001b[0m\n\u001b[0;32m--> 204\u001b[0;31m             \u001b[0;32mraise\u001b[0m \u001b[0mIOError\u001b[0m\u001b[0;34m(\u001b[0m\u001b[0;34mf'File pattern did not match anything {path}'\u001b[0m\u001b[0;34m)\u001b[0m\u001b[0;34m\u001b[0m\u001b[0;34m\u001b[0m\u001b[0m\n\u001b[0m\u001b[1;32m    205\u001b[0m         \u001b[0mfilename_hdf5\u001b[0m \u001b[0;34m=\u001b[0m \u001b[0mvaex\u001b[0m\u001b[0;34m.\u001b[0m\u001b[0mconvert\u001b[0m\u001b[0;34m.\u001b[0m\u001b[0m_convert_name\u001b[0m\u001b[0;34m(\u001b[0m\u001b[0mfilenames\u001b[0m\u001b[0;34m,\u001b[0m \u001b[0mshuffle\u001b[0m\u001b[0;34m=\u001b[0m\u001b[0mshuffle\u001b[0m\u001b[0;34m)\u001b[0m\u001b[0;34m\u001b[0m\u001b[0;34m\u001b[0m\u001b[0m\n\u001b[1;32m    206\u001b[0m         \u001b[0mfilename_hdf5_noshuffle\u001b[0m \u001b[0;34m=\u001b[0m \u001b[0mvaex\u001b[0m\u001b[0;34m.\u001b[0m\u001b[0mconvert\u001b[0m\u001b[0;34m.\u001b[0m\u001b[0m_convert_name\u001b[0m\u001b[0;34m(\u001b[0m\u001b[0mfilenames\u001b[0m\u001b[0;34m,\u001b[0m \u001b[0mshuffle\u001b[0m\u001b[0;34m=\u001b[0m\u001b[0;32mFalse\u001b[0m\u001b[0;34m)\u001b[0m\u001b[0;34m\u001b[0m\u001b[0;34m\u001b[0m\u001b[0m\n",
      "\u001b[0;31mOSError\u001b[0m: File pattern did not match anything e:/Datasets/csv_dump/dukascopy_arrow/EURUSD*.arrow"
     ]
    }
   ],
   "source": [
    "%%time\n",
    "df_v = vaex.open(arrow_folder + \"EURUSD*.arrow\")\n",
    "\n",
    "# Calculate the spread and then bucket average by date\n",
    "df_v.spread_bp = 10000 * (df_v.ask - df_v.bid) / df_v.mid\n",
    "df_v_daily_spread = df_v.groupby(by=vaex.BinnerTime(df_v.Date, resolution='D'), \n",
    "                                 agg={'spread_bp': vaex.agg.mean(df_v.spread_bp)})\n",
    "\n",
    "# Convert to pandas DataFrame and remove any Sat/Sun values\n",
    "df_pd_daily_spread = df_v_daily_spread.to_pandas_df()\n",
    "df_pd_daily_spread = df_pd_daily_spread.set_index('Date')\n",
    "\n",
    "df_pd_daily_spread = df_pd_daily_spread[df_pd_daily_spread.index.dayofweek < 5]"
   ]
  },
  {
   "cell_type": "markdown",
   "id": "numerical-indonesian",
   "metadata": {},
   "source": [
    "Let's plot the output of the spread. It's likely that some of the spikes might not be real (ie. related to holidays like New Years Day, when FX market is actually closed)."
   ]
  },
  {
   "cell_type": "code",
   "execution_count": 3,
   "id": "bigger-netherlands",
   "metadata": {
    "ExecuteTime": {
     "end_time": "2021-02-13T17:07:38.426615Z",
     "start_time": "2021-02-13T17:07:37.964613Z"
    }
   },
   "outputs": [
    {
     "data": {
      "text/plain": [
       "<AxesSubplot:xlabel='Date'>"
      ]
     },
     "execution_count": 3,
     "metadata": {},
     "output_type": "execute_result"
    },
    {
     "data": {
      "image/png": "[encoded data removed]",
      "text/plain": [
       "<Figure size 432x288 with 1 Axes>"
      ]
     },
     "metadata": {
      "needs_background": "light"
     },
     "output_type": "display_data"
    }
   ],
   "source": [
    "%matplotlib inline\n",
    "\n",
    "df_pd_daily_spread.plot()"
   ]
  },
  {
   "cell_type": "markdown",
   "id": "noticed-insider",
   "metadata": {},
   "source": [
    "### Using Dask to calculate the spread by day"
   ]
  },
  {
   "cell_type": "markdown",
   "id": "mysterious-mechanism",
   "metadata": {},
   "source": [
    "Let's try doing a similar computation with Dask. To set up the problem takes very little time, because Dask is doing lazy evaluation. It won't actually do the computation till it really needs to do so. Underneath it uses a threaded scheduler to execute the batches. You can also use a more heavy weight scheduler based on multiproccessing or a cluster, that can be run on multiple machine. Note, that because NumPy and Pandas release the GIL, even using a threaded scheduler might give you a speed up. In practice, both Vaex and NumPy tend to release the GIL on more operations than Pandas.\n",
    "\n",
    "In this case, we are using the tick data stored in Parquet files with Dask, given it doesn't handle Arrow format. Again, we are using EURUSD tick data between 2005-2021."
   ]
  },
  {
   "cell_type": "code",
   "execution_count": 4,
   "id": "perfect-optimum",
   "metadata": {
    "ExecuteTime": {
     "end_time": "2021-02-13T17:07:39.686612Z",
     "start_time": "2021-02-13T17:07:38.429614Z"
    }
   },
   "outputs": [
    {
     "name": "stdout",
     "output_type": "stream",
     "text": [
      "Wall time: 1.24 s\n"
     ]
    }
   ],
   "source": [
    "%%time\n",
    "df_dd = dd.read_parquet(parquet_folder + \"EURUSD*.parquet\")\n",
    "\n",
    "df_dd.spread_bp = 10000 * (df_dd.ask - df_dd.bid) / df_dd.mid\n",
    "\n",
    "df_dd_daily_spread = df_dd.spread_bp.groupby(df_dd.index.dt.date).mean()"
   ]
  },
  {
   "cell_type": "markdown",
   "id": "chubby-worth",
   "metadata": {},
   "source": [
    "The next step will be quite slow, because it will actually kick off the computation. On my machine it takes around 5 minutes.. much slower than vaex!"
   ]
  },
  {
   "cell_type": "code",
   "execution_count": 5,
   "id": "surgical-surge",
   "metadata": {
    "ExecuteTime": {
     "end_time": "2021-02-13T17:12:54.599560Z",
     "start_time": "2021-02-13T17:07:39.688613Z"
    }
   },
   "outputs": [
    {
     "name": "stdout",
     "output_type": "stream",
     "text": [
      "Wall time: 5min 14s\n"
     ]
    }
   ],
   "source": [
    "%%time\n",
    "\n",
    "df_dd_pd_daily_spread = df_dd_daily_spread.compute()"
   ]
  },
  {
   "cell_type": "code",
   "execution_count": 6,
   "id": "rocky-simon",
   "metadata": {
    "ExecuteTime": {
     "end_time": "2021-02-13T17:12:54.719559Z",
     "start_time": "2021-02-13T17:12:54.601560Z"
    }
   },
   "outputs": [],
   "source": [
    "df_dd_pd_daily_spread.index = pd.to_datetime(df_dd_pd_daily_spread.index)\n",
    "df_dd_pd_daily_spread = df_dd_pd_daily_spread[df_dd_pd_daily_spread.index.dayofweek < 5]"
   ]
  },
  {
   "cell_type": "code",
   "execution_count": 7,
   "id": "further-defensive",
   "metadata": {
    "ExecuteTime": {
     "end_time": "2021-02-13T17:12:54.929660Z",
     "start_time": "2021-02-13T17:12:54.721560Z"
    }
   },
   "outputs": [
    {
     "data": {
      "text/plain": [
       "<AxesSubplot:>"
      ]
     },
     "execution_count": 7,
     "metadata": {},
     "output_type": "execute_result"
    },
    {
     "data": {
      "image/png": "[encoded data removed]",
      "text/plain": [
       "<Figure size 432x288 with 1 Axes>"
      ]
     },
     "metadata": {
      "needs_background": "light"
     },
     "output_type": "display_data"
    }
   ],
   "source": [
    "%matplotlib inline\n",
    "\n",
    "df_dd_pd_daily_spread.plot()"
   ]
  },
  {
   "cell_type": "markdown",
   "id": "small-water",
   "metadata": {},
   "source": [
    "## Conclusion\n",
    "\n",
    "We've taken a quick look at a simple computation involving tick data both using vaex and Dask. At least in this example, it does appear that vaex is much quicker (just over 10 seconds versus nearly 4 minutes with Dask) and it definitely warrants more investigation!\n",
    "\n",
    "What are the downsides of vaex? Probably the main one is that the API looks slightly different to Pandas. Whereas Dask's DataFrame API is closer to vaex. That being said, you do get used to the nuances of vaex. Vaex is also a newer library than Dask, but I expect over time its feature set will expand and the feature gap between the two libraries will reduce."
   ]
  }
 ],
 "metadata": {
  "kernelspec": {
   "display_name": "Python 3",
   "language": "python",
   "name": "python3"
  },
  "language_info": {
   "codemirror_mode": {
    "name": "ipython",
    "version": 3
   },
   "file_extension": ".py",
   "mimetype": "text/x-python",
   "name": "python",
   "nbconvert_exporter": "python",
   "pygments_lexer": "ipython3",
   "version": "3.8.8"
  },
  "toc": {
   "base_numbering": 1,
   "nav_menu": {},
   "number_sections": true,
   "sideBar": true,
   "skip_h1_title": false,
   "title_cell": "Table of Contents",
   "title_sidebar": "Contents",
   "toc_cell": false,
   "toc_position": {},
   "toc_section_display": true,
   "toc_window_display": false
  }
 },
 "nbformat": 4,
 "nbformat_minor": 5
}
